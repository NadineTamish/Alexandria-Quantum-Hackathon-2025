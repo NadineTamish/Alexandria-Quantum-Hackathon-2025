{
 "cells": [
  {
   "cell_type": "code",
   "execution_count": 2,
   "id": "58db8034-025a-4010-9bff-7e10d68b17a1",
   "metadata": {},
   "outputs": [
    {
     "name": "stdout",
     "output_type": "stream",
     "text": [
      "Collecting osmnx\n",
      "  Downloading osmnx-2.0.6-py3-none-any.whl.metadata (4.9 kB)\n",
      "Collecting geopandas>=1.0.1 (from osmnx)\n",
      "  Downloading geopandas-1.1.1-py3-none-any.whl.metadata (2.3 kB)\n",
      "Collecting networkx>=2.5 (from osmnx)\n",
      "  Using cached networkx-3.5-py3-none-any.whl.metadata (6.3 kB)\n",
      "Requirement already satisfied: numpy>=1.22 in /opt/conda/lib/python3.11/site-packages (from osmnx) (2.3.2)\n",
      "Requirement already satisfied: pandas>=1.4 in /opt/conda/lib/python3.11/site-packages (from osmnx) (2.3.2)\n",
      "Requirement already satisfied: requests>=2.27 in /opt/conda/lib/python3.11/site-packages (from osmnx) (2.31.0)\n",
      "Collecting shapely>=2.0 (from osmnx)\n",
      "  Downloading shapely-2.1.1-cp311-cp311-manylinux_2_17_x86_64.manylinux2014_x86_64.whl.metadata (6.7 kB)\n",
      "Collecting pyogrio>=0.7.2 (from geopandas>=1.0.1->osmnx)\n",
      "  Downloading pyogrio-0.11.1-cp311-cp311-manylinux_2_28_x86_64.whl.metadata (5.3 kB)\n",
      "Requirement already satisfied: packaging in /opt/conda/lib/python3.11/site-packages (from geopandas>=1.0.1->osmnx) (24.0)\n",
      "Collecting pyproj>=3.5.0 (from geopandas>=1.0.1->osmnx)\n",
      "  Downloading pyproj-3.7.2-cp311-cp311-manylinux_2_28_x86_64.whl.metadata (31 kB)\n",
      "Requirement already satisfied: python-dateutil>=2.8.2 in /opt/conda/lib/python3.11/site-packages (from pandas>=1.4->osmnx) (2.9.0)\n",
      "Requirement already satisfied: pytz>=2020.1 in /opt/conda/lib/python3.11/site-packages (from pandas>=1.4->osmnx) (2024.1)\n",
      "Requirement already satisfied: tzdata>=2022.7 in /opt/conda/lib/python3.11/site-packages (from pandas>=1.4->osmnx) (2025.2)\n",
      "Requirement already satisfied: certifi in /opt/conda/lib/python3.11/site-packages (from pyogrio>=0.7.2->geopandas>=1.0.1->osmnx) (2024.2.2)\n",
      "Requirement already satisfied: six>=1.5 in /opt/conda/lib/python3.11/site-packages (from python-dateutil>=2.8.2->pandas>=1.4->osmnx) (1.16.0)\n",
      "Requirement already satisfied: charset-normalizer<4,>=2 in /opt/conda/lib/python3.11/site-packages (from requests>=2.27->osmnx) (3.3.2)\n",
      "Requirement already satisfied: idna<4,>=2.5 in /opt/conda/lib/python3.11/site-packages (from requests>=2.27->osmnx) (3.7)\n",
      "Requirement already satisfied: urllib3<3,>=1.21.1 in /opt/conda/lib/python3.11/site-packages (from requests>=2.27->osmnx) (2.2.1)\n",
      "Downloading osmnx-2.0.6-py3-none-any.whl (101 kB)\n",
      "Downloading geopandas-1.1.1-py3-none-any.whl (338 kB)\n",
      "Using cached networkx-3.5-py3-none-any.whl (2.0 MB)\n",
      "Downloading pyogrio-0.11.1-cp311-cp311-manylinux_2_28_x86_64.whl (27.7 MB)\n",
      "\u001b[2K   \u001b[90m━━━━━━━━━━━━━━━━━━━━━━━━━━━━━━━━━━━━━━━━\u001b[0m \u001b[32m27.7/27.7 MB\u001b[0m \u001b[31m112.1 MB/s\u001b[0m eta \u001b[36m0:00:00\u001b[0m00:01\u001b[0m\n",
      "\u001b[?25hDownloading pyproj-3.7.2-cp311-cp311-manylinux_2_28_x86_64.whl (9.5 MB)\n",
      "\u001b[2K   \u001b[90m━━━━━━━━━━━━━━━━━━━━━━━━━━━━━━━━━━━━━━━━\u001b[0m \u001b[32m9.5/9.5 MB\u001b[0m \u001b[31m89.9 MB/s\u001b[0m eta \u001b[36m0:00:00\u001b[0m\n",
      "\u001b[?25hDownloading shapely-2.1.1-cp311-cp311-manylinux_2_17_x86_64.manylinux2014_x86_64.whl (3.1 MB)\n",
      "\u001b[2K   \u001b[90m━━━━━━━━━━━━━━━━━━━━━━━━━━━━━━━━━━━━━━━━\u001b[0m \u001b[32m3.1/3.1 MB\u001b[0m \u001b[31m53.2 MB/s\u001b[0m eta \u001b[36m0:00:00\u001b[0m\n",
      "\u001b[?25hInstalling collected packages: shapely, pyproj, pyogrio, networkx, geopandas, osmnx\n",
      "\u001b[2K   \u001b[90m━━━━━━━━━━━━━━━━━━━━━━━━━━━━━━━━━━━━━━━━\u001b[0m \u001b[32m6/6\u001b[0m [osmnx]32m5/6\u001b[0m [osmnx]das]\n",
      "\u001b[1A\u001b[2KSuccessfully installed geopandas-1.1.1 networkx-3.5 osmnx-2.0.6 pyogrio-0.11.1 pyproj-3.7.2 shapely-2.1.1\n",
      "\n",
      "\u001b[1m[\u001b[0m\u001b[34;49mnotice\u001b[0m\u001b[1;39;49m]\u001b[0m\u001b[39;49m A new release of pip is available: \u001b[0m\u001b[31;49m25.1.1\u001b[0m\u001b[39;49m -> \u001b[0m\u001b[32;49m25.2\u001b[0m\n",
      "\u001b[1m[\u001b[0m\u001b[34;49mnotice\u001b[0m\u001b[1;39;49m]\u001b[0m\u001b[39;49m To update, run: \u001b[0m\u001b[32;49mpip install --upgrade pip\u001b[0m\n"
     ]
    }
   ],
   "source": [
    "!pip install osmnx"
   ]
  },
  {
   "cell_type": "code",
   "execution_count": 3,
   "id": "9b848cb9-7906-42b8-bd96-1ef91786c214",
   "metadata": {},
   "outputs": [
    {
     "name": "stdout",
     "output_type": "stream",
     "text": [
      "Requirement already satisfied: networkx in /opt/conda/lib/python3.11/site-packages (3.5)\n",
      "\n",
      "\u001b[1m[\u001b[0m\u001b[34;49mnotice\u001b[0m\u001b[1;39;49m]\u001b[0m\u001b[39;49m A new release of pip is available: \u001b[0m\u001b[31;49m25.1.1\u001b[0m\u001b[39;49m -> \u001b[0m\u001b[32;49m25.2\u001b[0m\n",
      "\u001b[1m[\u001b[0m\u001b[34;49mnotice\u001b[0m\u001b[1;39;49m]\u001b[0m\u001b[39;49m To update, run: \u001b[0m\u001b[32;49mpip install --upgrade pip\u001b[0m\n"
     ]
    }
   ],
   "source": [
    "!pip install networkx"
   ]
  },
  {
   "cell_type": "code",
   "execution_count": 4,
   "id": "db1ef1e2-80e9-453c-ba49-55c785503293",
   "metadata": {},
   "outputs": [
    {
     "name": "stdout",
     "output_type": "stream",
     "text": [
      "Collecting folium\n",
      "  Downloading folium-0.20.0-py2.py3-none-any.whl.metadata (4.2 kB)\n",
      "Collecting branca>=0.6.0 (from folium)\n",
      "  Downloading branca-0.8.1-py3-none-any.whl.metadata (1.5 kB)\n",
      "Requirement already satisfied: jinja2>=2.9 in /opt/conda/lib/python3.11/site-packages (from folium) (3.1.4)\n",
      "Requirement already satisfied: numpy in /opt/conda/lib/python3.11/site-packages (from folium) (2.3.2)\n",
      "Requirement already satisfied: requests in /opt/conda/lib/python3.11/site-packages (from folium) (2.31.0)\n",
      "Requirement already satisfied: xyzservices in /opt/conda/lib/python3.11/site-packages (from folium) (2025.4.0)\n",
      "Requirement already satisfied: MarkupSafe>=2.0 in /opt/conda/lib/python3.11/site-packages (from jinja2>=2.9->folium) (2.1.5)\n",
      "Requirement already satisfied: charset-normalizer<4,>=2 in /opt/conda/lib/python3.11/site-packages (from requests->folium) (3.3.2)\n",
      "Requirement already satisfied: idna<4,>=2.5 in /opt/conda/lib/python3.11/site-packages (from requests->folium) (3.7)\n",
      "Requirement already satisfied: urllib3<3,>=1.21.1 in /opt/conda/lib/python3.11/site-packages (from requests->folium) (2.2.1)\n",
      "Requirement already satisfied: certifi>=2017.4.17 in /opt/conda/lib/python3.11/site-packages (from requests->folium) (2024.2.2)\n",
      "Downloading folium-0.20.0-py2.py3-none-any.whl (113 kB)\n",
      "Downloading branca-0.8.1-py3-none-any.whl (26 kB)\n",
      "Installing collected packages: branca, folium\n",
      "\u001b[2K   \u001b[90m━━━━━━━━━━━━━━━━━━━━━━━━━━━━━━━━━━━━━━━━\u001b[0m \u001b[32m2/2\u001b[0m [folium]\n",
      "\u001b[1A\u001b[2KSuccessfully installed branca-0.8.1 folium-0.20.0\n",
      "\n",
      "\u001b[1m[\u001b[0m\u001b[34;49mnotice\u001b[0m\u001b[1;39;49m]\u001b[0m\u001b[39;49m A new release of pip is available: \u001b[0m\u001b[31;49m25.1.1\u001b[0m\u001b[39;49m -> \u001b[0m\u001b[32;49m25.2\u001b[0m\n",
      "\u001b[1m[\u001b[0m\u001b[34;49mnotice\u001b[0m\u001b[1;39;49m]\u001b[0m\u001b[39;49m To update, run: \u001b[0m\u001b[32;49mpip install --upgrade pip\u001b[0m\n"
     ]
    }
   ],
   "source": [
    "!pip install folium"
   ]
  },
  {
   "cell_type": "code",
   "execution_count": 5,
   "id": "e714abb4-2651-4681-96af-4eb79d9ad600",
   "metadata": {},
   "outputs": [
    {
     "name": "stdout",
     "output_type": "stream",
     "text": [
      "Collecting geopy\n",
      "  Downloading geopy-2.4.1-py3-none-any.whl.metadata (6.8 kB)\n",
      "Collecting geographiclib<3,>=1.52 (from geopy)\n",
      "  Downloading geographiclib-2.1-py3-none-any.whl.metadata (1.6 kB)\n",
      "Downloading geopy-2.4.1-py3-none-any.whl (125 kB)\n",
      "Downloading geographiclib-2.1-py3-none-any.whl (40 kB)\n",
      "Installing collected packages: geographiclib, geopy\n",
      "\u001b[2K   \u001b[90m━━━━━━━━━━━━━━━━━━━━━━━━━━━━━━━━━━━━━━━━\u001b[0m \u001b[32m2/2\u001b[0m [geopy]\n",
      "\u001b[1A\u001b[2KSuccessfully installed geographiclib-2.1 geopy-2.4.1\n",
      "\n",
      "\u001b[1m[\u001b[0m\u001b[34;49mnotice\u001b[0m\u001b[1;39;49m]\u001b[0m\u001b[39;49m A new release of pip is available: \u001b[0m\u001b[31;49m25.1.1\u001b[0m\u001b[39;49m -> \u001b[0m\u001b[32;49m25.2\u001b[0m\n",
      "\u001b[1m[\u001b[0m\u001b[34;49mnotice\u001b[0m\u001b[1;39;49m]\u001b[0m\u001b[39;49m To update, run: \u001b[0m\u001b[32;49mpip install --upgrade pip\u001b[0m\n"
     ]
    }
   ],
   "source": [
    "!pip install geopy"
   ]
  },
  {
   "cell_type": "code",
   "execution_count": 6,
   "id": "1dab42ba-a179-4878-8b18-1231ddaf276c",
   "metadata": {},
   "outputs": [
    {
     "name": "stdout",
     "output_type": "stream",
     "text": [
      "Requirement already satisfied: requests in /opt/conda/lib/python3.11/site-packages (2.31.0)\n",
      "Requirement already satisfied: charset-normalizer<4,>=2 in /opt/conda/lib/python3.11/site-packages (from requests) (3.3.2)\n",
      "Requirement already satisfied: idna<4,>=2.5 in /opt/conda/lib/python3.11/site-packages (from requests) (3.7)\n",
      "Requirement already satisfied: urllib3<3,>=1.21.1 in /opt/conda/lib/python3.11/site-packages (from requests) (2.2.1)\n",
      "Requirement already satisfied: certifi>=2017.4.17 in /opt/conda/lib/python3.11/site-packages (from requests) (2024.2.2)\n",
      "\n",
      "\u001b[1m[\u001b[0m\u001b[34;49mnotice\u001b[0m\u001b[1;39;49m]\u001b[0m\u001b[39;49m A new release of pip is available: \u001b[0m\u001b[31;49m25.1.1\u001b[0m\u001b[39;49m -> \u001b[0m\u001b[32;49m25.2\u001b[0m\n",
      "\u001b[1m[\u001b[0m\u001b[34;49mnotice\u001b[0m\u001b[1;39;49m]\u001b[0m\u001b[39;49m To update, run: \u001b[0m\u001b[32;49mpip install --upgrade pip\u001b[0m\n"
     ]
    }
   ],
   "source": [
    "!pip install requests"
   ]
  },
  {
   "cell_type": "code",
   "execution_count": null,
   "id": "feb9c8d3-ccf6-46fe-bc83-daa8e9b3e66e",
   "metadata": {},
   "outputs": [],
   "source": [
    "!pip install \"qiskit[visualization]\">=1.0 --user"
   ]
  },
  {
   "cell_type": "code",
   "execution_count": 7,
   "id": "50fb7049-a466-4d15-bdad-edd839fb7a96",
   "metadata": {},
   "outputs": [
    {
     "name": "stdout",
     "output_type": "stream",
     "text": [
      "Requirement already satisfied: qiskit-aer in ./.local/lib/python3.11/site-packages (0.17.1)\n",
      "Requirement already satisfied: qiskit>=1.1.0 in ./.local/lib/python3.11/site-packages (from qiskit-aer) (2.1.1)\n",
      "Requirement already satisfied: numpy>=1.16.3 in /opt/conda/lib/python3.11/site-packages (from qiskit-aer) (2.3.2)\n",
      "Requirement already satisfied: scipy>=1.0 in ./.local/lib/python3.11/site-packages (from qiskit-aer) (1.16.0)\n",
      "Requirement already satisfied: psutil>=5 in /opt/conda/lib/python3.11/site-packages (from qiskit-aer) (5.9.8)\n",
      "Requirement already satisfied: python-dateutil>=2.8.0 in /opt/conda/lib/python3.11/site-packages (from qiskit-aer) (2.9.0)\n",
      "Requirement already satisfied: six>=1.5 in /opt/conda/lib/python3.11/site-packages (from python-dateutil>=2.8.0->qiskit-aer) (1.16.0)\n",
      "Requirement already satisfied: rustworkx>=0.15.0 in ./.local/lib/python3.11/site-packages (from qiskit>=1.1.0->qiskit-aer) (0.16.0)\n",
      "Requirement already satisfied: dill>=0.3 in ./.local/lib/python3.11/site-packages (from qiskit>=1.1.0->qiskit-aer) (0.4.0)\n",
      "Requirement already satisfied: stevedore>=3.0.0 in ./.local/lib/python3.11/site-packages (from qiskit>=1.1.0->qiskit-aer) (5.4.1)\n",
      "Requirement already satisfied: typing-extensions in /opt/conda/lib/python3.11/site-packages (from qiskit>=1.1.0->qiskit-aer) (4.14.0)\n",
      "Requirement already satisfied: pbr>=2.0.0 in ./.local/lib/python3.11/site-packages (from stevedore>=3.0.0->qiskit>=1.1.0->qiskit-aer) (6.1.1)\n",
      "Requirement already satisfied: setuptools in /opt/conda/lib/python3.11/site-packages (from pbr>=2.0.0->stevedore>=3.0.0->qiskit>=1.1.0->qiskit-aer) (69.5.1)\n",
      "\n",
      "\u001b[1m[\u001b[0m\u001b[34;49mnotice\u001b[0m\u001b[1;39;49m]\u001b[0m\u001b[39;49m A new release of pip is available: \u001b[0m\u001b[31;49m25.1.1\u001b[0m\u001b[39;49m -> \u001b[0m\u001b[32;49m25.2\u001b[0m\n",
      "\u001b[1m[\u001b[0m\u001b[34;49mnotice\u001b[0m\u001b[1;39;49m]\u001b[0m\u001b[39;49m To update, run: \u001b[0m\u001b[32;49mpip install --upgrade pip\u001b[0m\n"
     ]
    }
   ],
   "source": [
    "!pip install qiskit-aer --user"
   ]
  },
  {
   "cell_type": "code",
   "execution_count": 11,
   "id": "2c888428-712c-494e-a055-6e8559573807",
   "metadata": {},
   "outputs": [
    {
     "name": "stdout",
     "output_type": "stream",
     "text": [
      "Requirement already satisfied: pip in /opt/.qbraid/environments/qbraid_000000/pyenv/lib/python3.11/site-packages (25.2)\n",
      "Note: you may need to restart the kernel to use updated packages.\n"
     ]
    }
   ],
   "source": [
    "pip install --upgrade pip"
   ]
  },
  {
   "cell_type": "code",
   "execution_count": 8,
   "id": "d9e66a9d-f0a6-41ee-be21-b111af3b09b0",
   "metadata": {},
   "outputs": [
    {
     "name": "stdout",
     "output_type": "stream",
     "text": [
      "Requirement already satisfied: qiskit in ./.local/lib/python3.11/site-packages (2.1.1)\n",
      "Requirement already satisfied: rustworkx>=0.15.0 in ./.local/lib/python3.11/site-packages (from qiskit) (0.16.0)\n",
      "Requirement already satisfied: numpy<3,>=1.17 in /opt/conda/lib/python3.11/site-packages (from qiskit) (2.3.2)\n",
      "Requirement already satisfied: scipy>=1.5 in ./.local/lib/python3.11/site-packages (from qiskit) (1.16.0)\n",
      "Requirement already satisfied: dill>=0.3 in ./.local/lib/python3.11/site-packages (from qiskit) (0.4.0)\n",
      "Requirement already satisfied: stevedore>=3.0.0 in ./.local/lib/python3.11/site-packages (from qiskit) (5.4.1)\n",
      "Requirement already satisfied: typing-extensions in /opt/conda/lib/python3.11/site-packages (from qiskit) (4.14.0)\n",
      "Requirement already satisfied: pbr>=2.0.0 in ./.local/lib/python3.11/site-packages (from stevedore>=3.0.0->qiskit) (6.1.1)\n",
      "Requirement already satisfied: setuptools in /opt/conda/lib/python3.11/site-packages (from pbr>=2.0.0->stevedore>=3.0.0->qiskit) (69.5.1)\n",
      "\n",
      "\u001b[1m[\u001b[0m\u001b[34;49mnotice\u001b[0m\u001b[1;39;49m]\u001b[0m\u001b[39;49m A new release of pip is available: \u001b[0m\u001b[31;49m25.1.1\u001b[0m\u001b[39;49m -> \u001b[0m\u001b[32;49m25.2\u001b[0m\n",
      "\u001b[1m[\u001b[0m\u001b[34;49mnotice\u001b[0m\u001b[1;39;49m]\u001b[0m\u001b[39;49m To update, run: \u001b[0m\u001b[32;49mpip install --upgrade pip\u001b[0m\n"
     ]
    }
   ],
   "source": [
    "!pip install qiskit"
   ]
  },
  {
   "cell_type": "code",
   "execution_count": 9,
   "id": "fc42b6e9-546a-4623-b32e-cb01cefbe388",
   "metadata": {},
   "outputs": [
    {
     "name": "stdout",
     "output_type": "stream",
     "text": [
      "Collecting qiskit-optimization\n",
      "  Downloading qiskit_optimization-0.7.0-py3-none-any.whl.metadata (9.4 kB)\n",
      "Requirement already satisfied: qiskit<3,>=1.1 in ./.local/lib/python3.11/site-packages (from qiskit-optimization) (2.1.1)\n",
      "Requirement already satisfied: scipy>=1.9.0 in ./.local/lib/python3.11/site-packages (from qiskit-optimization) (1.16.0)\n",
      "Requirement already satisfied: numpy>=1.17 in /opt/conda/lib/python3.11/site-packages (from qiskit-optimization) (2.3.2)\n",
      "Collecting docplex!=2.24.231,>=2.21.207 (from qiskit-optimization)\n",
      "  Downloading docplex-2.30.251.tar.gz (646 kB)\n",
      "\u001b[2K     \u001b[90m━━━━━━━━━━━━━━━━━━━━━━━━━━━━━━━━━━━━━━\u001b[0m \u001b[32m646.5/646.5 kB\u001b[0m \u001b[31m10.2 MB/s\u001b[0m eta \u001b[36m0:00:00\u001b[0m\n",
      "\u001b[?25h  Installing build dependencies ... \u001b[?25ldone\n",
      "\u001b[?25h  Getting requirements to build wheel ... \u001b[?25ldone\n",
      "\u001b[?25h  Installing backend dependencies ... \u001b[?25ldone\n",
      "\u001b[?25h  Preparing metadata (pyproject.toml) ... \u001b[?25ldone\n",
      "\u001b[?25hRequirement already satisfied: setuptools>=40.1.0 in /opt/conda/lib/python3.11/site-packages (from qiskit-optimization) (69.5.1)\n",
      "Requirement already satisfied: networkx>=2.6.3 in /opt/conda/lib/python3.11/site-packages (from qiskit-optimization) (3.5)\n",
      "Requirement already satisfied: rustworkx>=0.15.0 in ./.local/lib/python3.11/site-packages (from qiskit<3,>=1.1->qiskit-optimization) (0.16.0)\n",
      "Requirement already satisfied: dill>=0.3 in ./.local/lib/python3.11/site-packages (from qiskit<3,>=1.1->qiskit-optimization) (0.4.0)\n",
      "Requirement already satisfied: stevedore>=3.0.0 in ./.local/lib/python3.11/site-packages (from qiskit<3,>=1.1->qiskit-optimization) (5.4.1)\n",
      "Requirement already satisfied: typing-extensions in /opt/conda/lib/python3.11/site-packages (from qiskit<3,>=1.1->qiskit-optimization) (4.14.0)\n",
      "Requirement already satisfied: six in /opt/conda/lib/python3.11/site-packages (from docplex!=2.24.231,>=2.21.207->qiskit-optimization) (1.16.0)\n",
      "Requirement already satisfied: pbr>=2.0.0 in ./.local/lib/python3.11/site-packages (from stevedore>=3.0.0->qiskit<3,>=1.1->qiskit-optimization) (6.1.1)\n",
      "Downloading qiskit_optimization-0.7.0-py3-none-any.whl (237 kB)\n",
      "Building wheels for collected packages: docplex\n",
      "  Building wheel for docplex (pyproject.toml) ... \u001b[?25ldone\n",
      "\u001b[?25h  Created wheel for docplex: filename=docplex-2.30.251-py3-none-any.whl size=685954 sha256=641633cf717a580901e75ae29fcdc76a56c36f5c8494e220398903bfc8f68ab3\n",
      "  Stored in directory: /home/jovyan/.cache/pip/wheels/74/6a/00/0c08d9a7ffaa10ffd4462512d15d05197ac44d88436910bc4c\n",
      "Successfully built docplex\n",
      "Installing collected packages: docplex, qiskit-optimization\n",
      "\u001b[2K   \u001b[90m━━━━━━━━━━━━━━━━━━━━━━━━━━━━━━━━━━━━━━━━\u001b[0m \u001b[32m2/2\u001b[0m [qiskit-optimization]\n",
      "\u001b[1A\u001b[2KSuccessfully installed docplex-2.30.251 qiskit-optimization-0.7.0\n",
      "\n",
      "\u001b[1m[\u001b[0m\u001b[34;49mnotice\u001b[0m\u001b[1;39;49m]\u001b[0m\u001b[39;49m A new release of pip is available: \u001b[0m\u001b[31;49m25.1.1\u001b[0m\u001b[39;49m -> \u001b[0m\u001b[32;49m25.2\u001b[0m\n",
      "\u001b[1m[\u001b[0m\u001b[34;49mnotice\u001b[0m\u001b[1;39;49m]\u001b[0m\u001b[39;49m To update, run: \u001b[0m\u001b[32;49mpip install --upgrade pip\u001b[0m\n"
     ]
    }
   ],
   "source": [
    "!pip install qiskit-optimization"
   ]
  },
  {
   "cell_type": "code",
   "execution_count": 10,
   "id": "a0ccfe59-a5e9-4e3a-8375-19af21f6a89c",
   "metadata": {},
   "outputs": [
    {
     "name": "stdout",
     "output_type": "stream",
     "text": [
      "Collecting qiskit-algorithms\n",
      "  Downloading qiskit_algorithms-0.4.0-py3-none-any.whl.metadata (4.7 kB)\n",
      "Requirement already satisfied: qiskit>=1.0 in ./.local/lib/python3.11/site-packages (from qiskit-algorithms) (2.1.1)\n",
      "Requirement already satisfied: scipy>=1.4 in ./.local/lib/python3.11/site-packages (from qiskit-algorithms) (1.16.0)\n",
      "Requirement already satisfied: numpy>=1.17 in /opt/conda/lib/python3.11/site-packages (from qiskit-algorithms) (2.3.2)\n",
      "Requirement already satisfied: rustworkx>=0.15.0 in ./.local/lib/python3.11/site-packages (from qiskit>=1.0->qiskit-algorithms) (0.16.0)\n",
      "Requirement already satisfied: dill>=0.3 in ./.local/lib/python3.11/site-packages (from qiskit>=1.0->qiskit-algorithms) (0.4.0)\n",
      "Requirement already satisfied: stevedore>=3.0.0 in ./.local/lib/python3.11/site-packages (from qiskit>=1.0->qiskit-algorithms) (5.4.1)\n",
      "Requirement already satisfied: typing-extensions in /opt/conda/lib/python3.11/site-packages (from qiskit>=1.0->qiskit-algorithms) (4.14.0)\n",
      "Requirement already satisfied: pbr>=2.0.0 in ./.local/lib/python3.11/site-packages (from stevedore>=3.0.0->qiskit>=1.0->qiskit-algorithms) (6.1.1)\n",
      "Requirement already satisfied: setuptools in /opt/conda/lib/python3.11/site-packages (from pbr>=2.0.0->stevedore>=3.0.0->qiskit>=1.0->qiskit-algorithms) (69.5.1)\n",
      "Downloading qiskit_algorithms-0.4.0-py3-none-any.whl (327 kB)\n",
      "Installing collected packages: qiskit-algorithms\n",
      "Successfully installed qiskit-algorithms-0.4.0\n",
      "\n",
      "\u001b[1m[\u001b[0m\u001b[34;49mnotice\u001b[0m\u001b[1;39;49m]\u001b[0m\u001b[39;49m A new release of pip is available: \u001b[0m\u001b[31;49m25.1.1\u001b[0m\u001b[39;49m -> \u001b[0m\u001b[32;49m25.2\u001b[0m\n",
      "\u001b[1m[\u001b[0m\u001b[34;49mnotice\u001b[0m\u001b[1;39;49m]\u001b[0m\u001b[39;49m To update, run: \u001b[0m\u001b[32;49mpip install --upgrade pip\u001b[0m\n"
     ]
    }
   ],
   "source": [
    "!pip install qiskit-algorithms"
   ]
  },
  {
   "cell_type": "code",
   "execution_count": 12,
   "id": "bbc8db3c-1f7c-4d39-b7a3-78c525cbad72",
   "metadata": {},
   "outputs": [],
   "source": [
    "import pandas as pd\n",
    "import numpy as np\n",
    "import osmnx as ox\n",
    "import networkx as nx\n",
    "import folium\n",
    "import itertools\n",
    "from geopy.distance import geodesic\n",
    "import time\n",
    "from typing import List, Dict, Tuple\n",
    "import matplotlib.pyplot as plt\n",
    "import requests\n",
    "import json\n",
    "\n",
    "# Configure settings\n",
    "ox.settings.use_cache = True\n",
    "ox.settings.log_console = True\n",
    "import json\n",
    "import math\n",
    "import numpy as np\n",
    "from itertools import permutations\n",
    "from qiskit_optimization import QuadraticProgram\n",
    "from qiskit_optimization.algorithms import MinimumEigenOptimizer\n",
    "from qiskit_algorithms import QAOA\n",
    "from qiskit_algorithms.optimizers import COBYLA\n",
    "from qiskit.primitives import StatevectorSampler\n",
    "from qiskit_optimization.converters import QuadraticProgramToQubo\n",
    "from IPython.display import display, Math"
   ]
  },
  {
   "cell_type": "code",
   "execution_count": 13,
   "id": "3e4ce82c-cb8c-496a-8b39-99b8ade7b3a2",
   "metadata": {},
   "outputs": [],
   "source": [
    "# --- Cell 6b: Point-to-Point Best Route Helper Functions ---\n",
    "def best_route(lat1, lon1, lat2, lon2, return_geometry=True):\n",
    "    \"\"\"\n",
    "    Calculate the best driving route and distance between two points\n",
    "    using OSRM (lat/lon coordinates).\n",
    "\n",
    "    Parameters:\n",
    "        lat1, lon1 : float - coordinates of point A\n",
    "        lat2, lon2 : float - coordinates of point B\n",
    "        return_geometry : bool - if True, also return route geometry\n",
    "\n",
    "    Returns:\n",
    "        distance_km : float\n",
    "        duration_min : float\n",
    "        geometry : list (only if return_geometry=True)\n",
    "    \"\"\"\n",
    "    coords_str = f\"{lon1},{lat1};{lon2},{lat2}\"\n",
    "    url = f\"http://router.project-osrm.org/route/v1/driving/{coords_str}?overview=full&geometries=geojson\"\n",
    "\n",
    "    try:\n",
    "        response = requests.get(url, timeout=30)\n",
    "        response.raise_for_status()\n",
    "        data = response.json()\n",
    "\n",
    "        if data['code'] == 'Ok' and data['routes']:\n",
    "            route = data['routes'][0]\n",
    "            distance_km = route['distance'] / 1000  # meters → km\n",
    "            duration_min = route['duration'] / 60   # seconds → minutes\n",
    "            geometry = route['geometry']['coordinates']\n",
    "\n",
    "            # Debug print\n",
    "            print(f\"Best route from ({lat1}, {lon1}) → ({lat2}, {lon2})\")\n",
    "            print(f\"  Distance: {distance_km:.2f} km\")\n",
    "            print(f\"  Duration: {duration_min:.2f} min\")\n",
    "\n",
    "            if return_geometry:\n",
    "                return distance_km #, duration_min, geometry\n",
    "            return distance_km, duration_min\n",
    "        else:\n",
    "            print(\"OSRM error: No route found\")\n",
    "            return None\n",
    "\n",
    "    except requests.exceptions.RequestException as e:\n",
    "        print(f\"OSRM API error: {e}\")\n",
    "        return None"
   ]
  },
  {
   "cell_type": "code",
   "execution_count": 14,
   "id": "1f07464a-7fe4-47c7-98ea-4c68860e895f",
   "metadata": {},
   "outputs": [],
   "source": [
    "# --- Cell 2: Raw data (from JSON) ---\n",
    "data = {\n",
    "    \"hospital\": {\n",
    "        \"name\": \"Central Hospital\",\n",
    "        \"latitude\": 29.99512653425452,\n",
    "        \"longitude\": 31.68462840171934,\n",
    "        \"type\": \"destination\"\n",
    "    },\n",
    "    \"patients\": [\n",
    "        {\"id\": \"DT\", \"name\": \"Patient DT\", \"latitude\": 30.000417586266437, \"longitude\": 31.73960813272627},\n",
    "        {\"id\": \"GR\", \"name\": \"Patient GR\", \"latitude\": 30.011344405285193, \"longitude\": 31.747827362371993},\n",
    "        {\"id\": \"R2\", \"name\": \"Patient R2\", \"latitude\": 30.030388325206854, \"longitude\": 31.669231198639675},\n",
    "        {\"id\": \"R3_2\", \"name\": \"Patient R3_2\", \"latitude\": 30.030940768851426, \"longitude\": 31.688371339937028},\n",
    "        {\"id\": \"IT\", \"name\": \"Patient IT\", \"latitude\": 30.01285635906825, \"longitude\": 31.693811715848444}\n",
    "    ]\n",
    "}"
   ]
  },
  {
   "cell_type": "code",
   "execution_count": 16,
   "id": "23e5977e-4938-4860-bfa5-f257b970d8e3",
   "metadata": {},
   "outputs": [],
   "source": [
    "# Hospital is just a single dict\n",
    "hospital = {\n",
    "    \"latitude\": data[\"hospital\"][\"latitude\"],\n",
    "    \"longitude\": data[\"hospital\"][\"longitude\"]\n",
    "}\n",
    "\n",
    "# Patients is already a list of dicts\n",
    "patients = data[\"patients\"]\n",
    "\n",
    "n_patients = len(patients)\n",
    "max_stops = 3  # Maximum stops per trip\n",
    "\n",
    "# Create a list of all locations (hospital first, then patients)\n",
    "locations = [hospital] + [{\"latitude\": p[\"latitude\"], \"longitude\": p[\"longitude\"]} for p in patients]\n",
    "n_locations = len(locations)\n"
   ]
  },
  {
   "cell_type": "code",
   "execution_count": 17,
   "id": "326939a4-5588-4803-9e75-908159d91a2f",
   "metadata": {},
   "outputs": [
    {
     "name": "stdout",
     "output_type": "stream",
     "text": [
      "Best route from (29.99512653425452, 31.68462840171934) → (30.000417586266437, 31.73960813272627)\n",
      "  Distance: 8.63 km\n",
      "  Duration: 13.18 min\n",
      "Best route from (29.99512653425452, 31.68462840171934) → (30.011344405285193, 31.747827362371993)\n",
      "  Distance: 11.50 km\n",
      "  Duration: 15.42 min\n",
      "Best route from (29.99512653425452, 31.68462840171934) → (30.030388325206854, 31.669231198639675)\n",
      "  Distance: 9.45 km\n",
      "  Duration: 15.81 min\n",
      "Best route from (29.99512653425452, 31.68462840171934) → (30.030940768851426, 31.688371339937028)\n",
      "  Distance: 10.85 km\n",
      "  Duration: 16.44 min\n",
      "Best route from (29.99512653425452, 31.68462840171934) → (30.01285635906825, 31.693811715848444)\n",
      "  Distance: 9.67 km\n",
      "  Duration: 12.29 min\n",
      "Best route from (30.000417586266437, 31.73960813272627) → (29.99512653425452, 31.68462840171934)\n",
      "  Distance: 14.19 km\n",
      "  Duration: 19.01 min\n",
      "Best route from (30.000417586266437, 31.73960813272627) → (30.011344405285193, 31.747827362371993)\n",
      "  Distance: 2.36 km\n",
      "  Duration: 7.40 min\n",
      "Best route from (30.000417586266437, 31.73960813272627) → (30.030388325206854, 31.669231198639675)\n",
      "  Distance: 10.92 km\n",
      "  Duration: 16.14 min\n",
      "Best route from (30.000417586266437, 31.73960813272627) → (30.030940768851426, 31.688371339937028)\n",
      "  Distance: 9.24 km\n",
      "  Duration: 12.82 min\n",
      "Best route from (30.000417586266437, 31.73960813272627) → (30.01285635906825, 31.693811715848444)\n",
      "  Distance: 9.43 km\n",
      "  Duration: 11.29 min\n",
      "Best route from (30.011344405285193, 31.747827362371993) → (29.99512653425452, 31.68462840171934)\n",
      "  Distance: 17.78 km\n",
      "  Duration: 20.28 min\n",
      "Best route from (30.011344405285193, 31.747827362371993) → (30.000417586266437, 31.73960813272627)\n",
      "  Distance: 7.75 km\n",
      "  Duration: 11.48 min\n",
      "Best route from (30.011344405285193, 31.747827362371993) → (30.030388325206854, 31.669231198639675)\n",
      "  Distance: 11.81 km\n",
      "  Duration: 17.47 min\n",
      "Best route from (30.011344405285193, 31.747827362371993) → (30.030940768851426, 31.688371339937028)\n",
      "  Distance: 10.12 km\n",
      "  Duration: 14.15 min\n",
      "Best route from (30.011344405285193, 31.747827362371993) → (30.01285635906825, 31.693811715848444)\n",
      "  Distance: 10.48 km\n",
      "  Duration: 11.97 min\n",
      "Best route from (30.030388325206854, 31.669231198639675) → (29.99512653425452, 31.68462840171934)\n",
      "  Distance: 11.86 km\n",
      "  Duration: 16.29 min\n",
      "Best route from (30.030388325206854, 31.669231198639675) → (30.000417586266437, 31.73960813272627)\n",
      "  Distance: 19.67 km\n",
      "  Duration: 21.59 min\n",
      "Best route from (30.030388325206854, 31.669231198639675) → (30.011344405285193, 31.747827362371993)\n",
      "  Distance: 15.66 km\n",
      "  Duration: 21.29 min\n",
      "Best route from (30.030388325206854, 31.669231198639675) → (30.030940768851426, 31.688371339937028)\n",
      "  Distance: 11.57 km\n",
      "  Duration: 15.77 min\n",
      "Best route from (30.030388325206854, 31.669231198639675) → (30.01285635906825, 31.693811715848444)\n",
      "  Distance: 11.54 km\n",
      "  Duration: 15.88 min\n",
      "Best route from (30.030940768851426, 31.688371339937028) → (29.99512653425452, 31.68462840171934)\n",
      "  Distance: 7.34 km\n",
      "  Duration: 11.10 min\n",
      "Best route from (30.030940768851426, 31.688371339937028) → (30.000417586266437, 31.73960813272627)\n",
      "  Distance: 12.17 km\n",
      "  Duration: 15.58 min\n",
      "Best route from (30.030940768851426, 31.688371339937028) → (30.011344405285193, 31.747827362371993)\n",
      "  Distance: 10.05 km\n",
      "  Duration: 14.92 min\n",
      "Best route from (30.030940768851426, 31.688371339937028) → (30.030388325206854, 31.669231198639675)\n",
      "  Distance: 4.07 km\n",
      "  Duration: 8.23 min\n",
      "Best route from (30.030940768851426, 31.688371339937028) → (30.01285635906825, 31.693811715848444)\n",
      "  Distance: 5.93 km\n",
      "  Duration: 9.51 min\n",
      "Best route from (30.01285635906825, 31.693811715848444) → (29.99512653425452, 31.68462840171934)\n",
      "  Distance: 9.27 km\n",
      "  Duration: 15.38 min\n",
      "Best route from (30.01285635906825, 31.693811715848444) → (30.000417586266437, 31.73960813272627)\n",
      "  Distance: 9.40 km\n",
      "  Duration: 13.87 min\n",
      "Best route from (30.01285635906825, 31.693811715848444) → (30.011344405285193, 31.747827362371993)\n",
      "  Distance: 12.27 km\n",
      "  Duration: 16.11 min\n",
      "Best route from (30.01285635906825, 31.693811715848444) → (30.030388325206854, 31.669231198639675)\n",
      "  Distance: 7.32 km\n",
      "  Duration: 13.75 min\n",
      "Best route from (30.01285635906825, 31.693811715848444) → (30.030940768851426, 31.688371339937028)\n",
      "  Distance: 8.72 km\n",
      "  Duration: 14.38 min\n"
     ]
    },
    {
     "data": {
      "text/latex": [
       "$\\displaystyle \\begin{bmatrix}0.0 & 8.6285 & 11.4958 & 9.4454 & 10.8524 & 9.6724\\\\14.1936 & 0.0 & 2.3608000000000002 & 10.922 & 9.238 & 9.4305\\\\17.7848 & 7.7452 & 0.0 & 11.8083 & 10.1243 & 10.478\\\\11.8644 & 19.6719 & 15.6608 & 0.0 & 11.5718 & 11.5385\\\\7.3427 & 12.171899999999999 & 10.0531 & 4.0710999999999995 & 0.0 & 5.9308000000000005\\\\9.269200000000001 & 9.398399999999999 & 12.2657 & 7.318 & 8.725 & 0.0\\end{bmatrix}$"
      ],
      "text/plain": [
       "<IPython.core.display.Math object>"
      ]
     },
     "metadata": {},
     "output_type": "display_data"
    }
   ],
   "source": [
    "# Precompute distance matrix\n",
    "dist_matrix = np.zeros((n_locations, n_locations))\n",
    "for i in range(n_locations):\n",
    "    for j in range(n_locations):\n",
    "        if i != j:\n",
    "            coord_i = locations[i]\n",
    "            coord_j = locations[j]\n",
    "            dist_matrix[i, j] = best_route(\n",
    "                coord_i[\"latitude\"], coord_i[\"longitude\"],\n",
    "                coord_j[\"latitude\"], coord_j[\"longitude\"]\n",
    "            )\n",
    "latex_str = r\"\\begin{bmatrix}\" + \\\n",
    "            r\"\\\\\".join([\" & \".join(map(str, row)) for row in dist_matrix]) + \\\n",
    "            r\"\\end{bmatrix}\"\n",
    "\n",
    "display(Math(latex_str))"
   ]
  },
  {
   "cell_type": "code",
   "execution_count": 18,
   "id": "d2246641-b7b2-4d44-9566-65f969762fd4",
   "metadata": {},
   "outputs": [],
   "source": [
    "\n",
    "# Create Quadratic Program with a more efficient formulation\n",
    "qp = QuadraticProgram(name=\"Ambulance_Routing\")"
   ]
  },
  {
   "cell_type": "code",
   "execution_count": 19,
   "id": "fe65d082-a6a4-44f6-8ad8-9fbe21b8a053",
   "metadata": {},
   "outputs": [],
   "source": [
    "\n",
    "# Add binary variables: x_{i,t} - patient i is in trip t\n",
    "for i in range(n_patients):\n",
    "    for t in range(2):  # We need at most 2 trips for 5 patients\n",
    "        qp.binary_var(name=f\"x_{i}_{t}\")\n",
    "\n",
    "# Add constraint: Each patient visited exactly once\n",
    "for i in range(n_patients):\n",
    "    constraint_terms = {}\n",
    "    for t in range(2):\n",
    "        constraint_terms[f\"x_{i}_{t}\"] = 1\n",
    "    qp.linear_constraint(\n",
    "        linear=constraint_terms,\n",
    "        sense=\"==\",\n",
    "        rhs=1,\n",
    "        name=f\"patient_{i}_visited_once\"\n",
    "    )\n",
    "\n",
    "# Add constraint: Maximum patients per trip\n",
    "for t in range(2):\n",
    "    constraint_terms = {}\n",
    "    for i in range(n_patients):\n",
    "        constraint_terms[f\"x_{i}_{t}\"] = 1\n",
    "    qp.linear_constraint(\n",
    "        linear=constraint_terms,\n",
    "        sense=\"<=\",\n",
    "        rhs=max_stops,\n",
    "        name=f\"trip_{t}_max_patients\"\n",
    "    )\n",
    "\n",
    "# Build the objective function\n",
    "linear_terms = {}\n",
    "quadratic_terms = {}\n",
    "\n",
    "# Distance terms for each trip\n",
    "for t in range(2):\n",
    "    # Hospital to first patient distance (approximation)\n",
    "    for i in range(n_patients):\n",
    "        linear_terms[f\"x_{i}_{t}\"] = dist_matrix[0, i+1] * 0.5  # Weighted\n",
    "\n",
    "    # Distances between patients in the same trip\n",
    "    for i in range(n_patients):\n",
    "        for j in range(i+1, n_patients):\n",
    "            quadratic_terms[(f\"x_{i}_{t}\", f\"x_{j}_{t}\")] = dist_matrix[i+1, j+1] * 0.3  # Weighted"
   ]
  },
  {
   "cell_type": "code",
   "execution_count": 20,
   "id": "ba7a0d47-8c32-42f2-b0d5-acd975caecc6",
   "metadata": {},
   "outputs": [],
   "source": [
    "# Convert to QUBO for better performance\n",
    "converter = QuadraticProgramToQubo()\n",
    "qubo = converter.convert(qp)\n",
    "\n",
    "#print(\"Problem formulation complete\")\n",
    "\n",
    "#print(f\"Variables: {qubo.get_num_vars()}\")\n",
    "#print(f\"Constraints: {qubo.get_num_linear_constraints()}\")\n"
   ]
  },
  {
   "cell_type": "code",
   "execution_count": 21,
   "id": "67a0b0b2-3ce1-4241-94bd-0a88b076de9a",
   "metadata": {},
   "outputs": [
    {
     "name": "stdout",
     "output_type": "stream",
     "text": [
      "\n",
      "Optimization result:\n"
     ]
    }
   ],
   "source": [
    "\n",
    "# Solve with QAOA using a simplified approach\n",
    "optimizer = COBYLA(maxiter=50)\n",
    "qaoa = QAOA(sampler=StatevectorSampler(), optimizer=optimizer, reps=10)\n",
    "algorithm = MinimumEigenOptimizer(qaoa)\n",
    "\n",
    "result = algorithm.solve(qubo)\n",
    "print(\"\\nOptimization result:\")"
   ]
  },
  {
   "cell_type": "code",
   "execution_count": 22,
   "id": "04670338-12e7-4e18-93dc-d91dc11eac73",
   "metadata": {},
   "outputs": [
    {
     "name": "stdout",
     "output_type": "stream",
     "text": [
      "\n",
      "Suggested trips:\n"
     ]
    }
   ],
   "source": [
    "\n",
    "\n",
    "# Interpret the solution\n",
    "print(\"\\nSuggested trips:\")\n",
    "trips = [[], []]  # Two trips\n",
    "for i in range(n_patients):\n",
    "    for t in range(2):\n",
    "        var_name = f\"x_{i}_{t}\"\n",
    "        if var_name in result.variables_dict and result.variables_dict[var_name] > 0.5:\n",
    "            trips[t].append(patients[i][\"id\"])\n"
   ]
  },
  {
   "cell_type": "code",
   "execution_count": 23,
   "id": "aaaf2db7-246d-40ed-8604-e72f3a71aa68",
   "metadata": {},
   "outputs": [],
   "source": [
    "# Calculate actual distances for each trip\n",
    "def calculate_trip_distance(patient_ids):\n",
    "    \"\"\"Calculate the minimum distance for a trip visiting the given patients.\"\"\"\n",
    "    if not patient_ids:\n",
    "        return 0, []\n",
    "\n",
    "    # Get indices of patients in the distance matrix\n",
    "    patient_indices = []\n",
    "    for pid in patient_ids:\n",
    "        for i, p in enumerate(patients):\n",
    "            if p[\"id\"] == pid:\n",
    "                patient_indices.append(i+1)  # +1 because hospital is at index 0\n",
    "\n",
    "    # Find the optimal order for this trip\n",
    "    min_distance = float('inf')\n",
    "    best_order = []\n",
    "\n",
    "    # Try all permutations of patients to find the shortest path\n",
    "    for order in permutations(patient_indices):\n",
    "        distance = dist_matrix[0, order[0]]  # Hospital to first patient\n",
    "\n",
    "        # Distances between patients\n",
    "        for j in range(len(order)-1):\n",
    "            distance += dist_matrix[order[j], order[j+1]]\n",
    "\n",
    "        # Last patient back to hospital\n",
    "        distance += dist_matrix[order[-1], 0]\n",
    "\n",
    "        if distance < min_distance:\n",
    "            min_distance = distance\n",
    "            best_order = [patients[idx-1][\"id\"] for idx in order]\n",
    "\n",
    "    return min_distance, best_order\n"
   ]
  },
  {
   "cell_type": "code",
   "execution_count": 25,
   "id": "3f631490-60a4-4de8-b498-4bab5e587a80",
   "metadata": {},
   "outputs": [
    {
     "name": "stdout",
     "output_type": "stream",
     "text": [
      "Trip 1: Hospital -> DT -> GR -> R2 -> Hospital (Distance: 34.66 km)\n",
      "Trip 2: Hospital -> IT -> R3_2 -> Hospital (Distance: 25.74 km)\n",
      "\n",
      "Total distance: 60.40 km\n",
      "\n",
      "Patient coordinates:\n",
      "DT: (30.000418, 31.739608)\n",
      "GR: (30.011344, 31.747827)\n",
      "R2: (30.030388, 31.669231)\n",
      "R3_2: (30.030941, 31.688371)\n",
      "IT: (30.012856, 31.693812)\n",
      "Hospital: (29.995127, 31.684628)\n"
     ]
    }
   ],
   "source": [
    "total_distance = 0\n",
    "for t in range(2):\n",
    "    if trips[t]:\n",
    "        distance, order = calculate_trip_distance(trips[t])\n",
    "        total_distance += distance\n",
    "        print(f\"Trip {t+1}: Hospital -> {' -> '.join(order)} -> Hospital (Distance: {distance:.2f} km)\")\n",
    "    else:\n",
    "        print(f\"Trip {t+1}: Empty\")\n",
    "\n",
    "print(f\"\\nTotal distance: {total_distance:.2f} km\")\n",
    "\n",
    "print(\"\\nPatient coordinates:\")\n",
    "for i, patient in enumerate(patients):\n",
    "    print(f\"{patient['id']}: ({patient['latitude']:.6f}, {patient['longitude']:.6f})\")\n",
    "\n",
    "print(f\"Hospital: ({hospital['latitude']:.6f}, {hospital['longitude']:.6f})\")\n"
   ]
  },
  {
   "cell_type": "code",
   "execution_count": null,
   "id": "3e0985a4-0d14-4bc7-85a6-a4d5ca8169d2",
   "metadata": {},
   "outputs": [],
   "source": []
  }
 ],
 "metadata": {
  "kernelspec": {
   "display_name": "Python 3 [Default]",
   "language": "python",
   "name": "python3"
  },
  "language_info": {
   "codemirror_mode": {
    "name": "ipython",
    "version": 3
   },
   "file_extension": ".py",
   "mimetype": "text/x-python",
   "name": "python",
   "nbconvert_exporter": "python",
   "pygments_lexer": "ipython3",
   "version": "3.11.9"
  }
 },
 "nbformat": 4,
 "nbformat_minor": 5
}
